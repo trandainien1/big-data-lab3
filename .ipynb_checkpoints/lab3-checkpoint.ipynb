{
 "cells": [
  {
   "cell_type": "markdown",
   "id": "43565064",
   "metadata": {},
   "source": [
    "## Initialize a Spark Session"
   ]
  },
  {
   "cell_type": "code",
   "execution_count": 21,
   "id": "afcca186",
   "metadata": {},
   "outputs": [],
   "source": [
    "import findspark\n",
    "findspark.init()\n",
    "import pyspark\n",
    "# Creating a SparkSession in Python\n",
    "from pyspark.sql import SparkSession\n",
    "spark = SparkSession.builder.master(\"local\")\\\n",
    "          .appName(\"Spark Streaming Demonstration\")\\\n",
    "          .config(\"spark.some.config.option\", \"some-value\")\\\n",
    "          .getOrCreate()\n",
    "# keep the size of shuffles small\n",
    "spark.conf.set(\"spark.sql.shuffle.partitions\", \"2\") "
   ]
  },
  {
   "cell_type": "markdown",
   "id": "5b244d34",
   "metadata": {},
   "source": [
    "## Task 1: Discover a method to simulate a stream by utilizing data sourced from files\n"
   ]
  },
  {
   "cell_type": "markdown",
   "id": "3f23c5ab",
   "metadata": {},
   "source": [
    "1. Define input path"
   ]
  },
  {
   "cell_type": "code",
   "execution_count": 29,
   "id": "352d2fb7",
   "metadata": {},
   "outputs": [],
   "source": [
    "# input path in local filesystem\n",
    "inputPath = \"./data\""
   ]
  },
  {
   "cell_type": "markdown",
   "id": "80b37822",
   "metadata": {},
   "source": [
    "2. Get schema from input files"
   ]
  },
  {
   "cell_type": "code",
   "execution_count": 30,
   "id": "5a132b3f",
   "metadata": {},
   "outputs": [],
   "source": [
    "staticInputDF = (\n",
    "  spark\n",
    "    .read\n",
    "    .csv(inputPath)\n",
    ")\n",
    "\n",
    "schema = staticInputDF.schema"
   ]
  },
  {
   "cell_type": "code",
   "execution_count": 31,
   "id": "415ae378",
   "metadata": {},
   "outputs": [
    {
     "data": {
      "text/plain": [
       "StructType([StructField('_c0', StringType(), True), StructField('_c1', StringType(), True), StructField('_c2', StringType(), True), StructField('_c3', StringType(), True), StructField('_c4', StringType(), True), StructField('_c5', StringType(), True), StructField('_c6', StringType(), True), StructField('_c7', StringType(), True), StructField('_c8', StringType(), True), StructField('_c9', StringType(), True), StructField('_c10', StringType(), True), StructField('_c11', StringType(), True), StructField('_c12', StringType(), True), StructField('_c13', StringType(), True), StructField('_c14', StringType(), True), StructField('_c15', StringType(), True), StructField('_c16', StringType(), True), StructField('_c17', StringType(), True), StructField('_c18', StringType(), True), StructField('_c19', StringType(), True)])"
      ]
     },
     "execution_count": 31,
     "metadata": {},
     "output_type": "execute_result"
    }
   ],
   "source": [
    "schema"
   ]
  },
  {
   "cell_type": "markdown",
   "id": "c5441c54",
   "metadata": {},
   "source": [
    "3. Tạo `streaming_df` và lấy ra các cột `Action` và `Time`"
   ]
  },
  {
   "cell_type": "code",
   "execution_count": 8,
   "id": "20089cf6",
   "metadata": {
    "scrolled": true
   },
   "outputs": [],
   "source": [
    "import pyspark.sql.functions as f\n",
    "\n",
    "streaming_df = (\n",
    "  spark\n",
    "    .readStream\n",
    "    .schema(schema)          # Set the schema of the csv data\n",
    "    .option(\"maxFilesPerTrigger\", 1)\n",
    "    .csv(inputPath)\n",
    ")\n",
    "\n",
    "# streaming_df = streaming_df.select(f.col('_c0').alias('Action'), f.col('_c3').alias('Time'))"
   ]
  },
  {
   "cell_type": "markdown",
   "id": "f596a76d",
   "metadata": {},
   "source": [
    "4. Create `streaming_df_count` for counting trips by drop-off datetime "
   ]
  },
  {
   "cell_type": "code",
   "execution_count": 6,
   "id": "030819c4",
   "metadata": {},
   "outputs": [
    {
     "name": "stdout",
     "output_type": "stream",
     "text": [
      "is process Counting streaming? True\n"
     ]
    }
   ],
   "source": [
    "from pyspark.sql.functions import *      # for window() function\n",
    "streaming_df = streaming_df.select(f.col('_c0').alias('Action'), f.col('_c3').alias('Time'))\n",
    "\n",
    "streaming_df_count = (\n",
    "  streaming_df\n",
    "    .groupBy(window(streaming_df.Time, \"1 hour\"))    \n",
    "    .count()\n",
    ")\n",
    "\n",
    "print('is process Counting streaming?', streaming_df_count.isStreaming)"
   ]
  },
  {
   "cell_type": "markdown",
   "id": "432cdc59",
   "metadata": {},
   "source": [
    " ## Task 2: Create query that aggregates the number of trips by dropoff datetime for each hour."
   ]
  },
  {
   "cell_type": "code",
   "execution_count": 10,
   "id": "80792bb6",
   "metadata": {},
   "outputs": [
    {
     "name": "stdout",
     "output_type": "stream",
     "text": [
      "+------------------------------------------+-----+\n",
      "|window                                    |count|\n",
      "+------------------------------------------+-----+\n",
      "|{2015-12-01 00:00:00, 2015-12-01 01:00:00}|7396 |\n",
      "|{2015-12-01 01:00:00, 2015-12-01 02:00:00}|5780 |\n",
      "|{2015-12-01 02:00:00, 2015-12-01 03:00:00}|3605 |\n",
      "|{2015-12-01 03:00:00, 2015-12-01 04:00:00}|2426 |\n",
      "|{2015-12-01 04:00:00, 2015-12-01 05:00:00}|2505 |\n",
      "|{2015-12-01 05:00:00, 2015-12-01 06:00:00}|3858 |\n",
      "|{2015-12-01 06:00:00, 2015-12-01 07:00:00}|10258|\n",
      "|{2015-12-01 07:00:00, 2015-12-01 08:00:00}|19007|\n",
      "|{2015-12-01 08:00:00, 2015-12-01 09:00:00}|23799|\n",
      "|{2015-12-01 09:00:00, 2015-12-01 10:00:00}|24003|\n",
      "|{2015-12-01 10:00:00, 2015-12-01 11:00:00}|21179|\n",
      "|{2015-12-01 11:00:00, 2015-12-01 12:00:00}|20219|\n",
      "|{2015-12-01 12:00:00, 2015-12-01 13:00:00}|20522|\n",
      "|{2015-12-01 13:00:00, 2015-12-01 14:00:00}|20556|\n",
      "|{2015-12-01 14:00:00, 2015-12-01 15:00:00}|21712|\n",
      "|{2015-12-01 15:00:00, 2015-12-01 16:00:00}|22016|\n",
      "|{2015-12-01 16:00:00, 2015-12-01 17:00:00}|18034|\n",
      "|{2015-12-01 17:00:00, 2015-12-01 18:00:00}|19719|\n",
      "|{2015-12-01 18:00:00, 2015-12-01 19:00:00}|25563|\n",
      "|{2015-12-01 19:00:00, 2015-12-01 20:00:00}|28178|\n",
      "|{2015-12-01 20:00:00, 2015-12-01 21:00:00}|27449|\n",
      "|{2015-12-01 21:00:00, 2015-12-01 22:00:00}|27072|\n",
      "|{2015-12-01 22:00:00, 2015-12-01 23:00:00}|24078|\n",
      "|{2015-12-01 23:00:00, 2015-12-02 00:00:00}|18806|\n",
      "+------------------------------------------+-----+\n",
      "\n"
     ]
    }
   ],
   "source": [
    "# This query stores the aggregation results in memory then visualize it\n",
    "query = (\n",
    "  streaming_df_count\n",
    "    .writeStream\n",
    "    .format(\"memory\")         # console or memory(= store in-memory table) \n",
    "    .queryName(\"counts\")      # counts = name of the in-memory table\n",
    "    .outputMode(\"complete\")   \n",
    "    .option(\"truncate\", \"false\")\n",
    "    .start()\n",
    ")\n",
    "query.awaitTermination(60)\n",
    "\n",
    "query.stop()\n",
    "\n",
    "result = spark.sql('select * from counts order by window')\n",
    "\n",
    "result.show(result.count(), truncate=False)"
   ]
  },
  {
   "cell_type": "markdown",
   "id": "3716f1e1",
   "metadata": {},
   "source": [
    "6. Create folders and files to store each intervals "
   ]
  },
  {
   "cell_type": "code",
   "execution_count": 11,
   "id": "25423493",
   "metadata": {},
   "outputs": [],
   "source": [
    "import os\n",
    "\n",
    "count = 360000\n",
    "for row in result.collect():\n",
    "#     print(row)\n",
    "    newpath = r'./output-' + str(count) \n",
    "    if not os.path.exists(newpath):\n",
    "        os.makedirs(newpath)\n",
    "    with open(newpath + f\"/output-{count}.txt\", \"w\") as file:\n",
    "        file.write(str(row['count']))\n",
    "    count += 360000"
   ]
  },
  {
   "cell_type": "markdown",
   "id": "9f9d3cbd",
   "metadata": {},
   "source": [
    "## Task 3: Create a query that counts the number of taxi trips each hour that drop off at either the Goldman Sachs headquarters or the Citigroup headquarters"
   ]
  },
  {
   "cell_type": "code",
   "execution_count": 151,
   "id": "8cde9aff",
   "metadata": {},
   "outputs": [],
   "source": [
    "import pyspark.sql.functions as f\n",
    "import numpy as np \n",
    "from pyspark.sql.types import StructType,StructField, StringType\n",
    "\n",
    "\n",
    "def filter_location(df, location):\n",
    "    goldman = np.array([[-74.0141012, 40.7152191], [-74.013777, 40.7152275], [-74.0141027, 40.7138745], [-74.0144185, 40.7140753]])\n",
    "    citigroup = np.array([[-74.011869, 40.7217236], [-74.009867, 40.721493], [-74.010140,40.720053], [-74.012083, 40.720267]])\n",
    "    locations = [goldman, citigroup]\n",
    "    \n",
    "    schema = StructType([\n",
    "      StructField('dropoff_longitude', StringType(), True),\n",
    "      StructField('dropoff_latitude', StringType(), True),\n",
    "      StructField('Time', StringType(), True),\n",
    "      ])\n",
    "    \n",
    "    res = spark.createDataFrame([], schema)\n",
    "    \n",
    "    d = {'goldman': 0, 'citigroup': 0}\n",
    "    index = 0\n",
    "    \n",
    "    x_min = np.min(goldman[:, 0])\n",
    "    x_max = np.max(goldman[:, 0])\n",
    "    y_min = np.min(goldman[:, 1])\n",
    "    y_max = np.max(goldman[:, 1])\n",
    "\n",
    "    x1_min = np.min(citigroup[:, 0])\n",
    "    x1_max = np.max(citigroup[:, 0])\n",
    "    y1_min = np.min(citigroup[:, 1])\n",
    "    y1_max = np.max(citigroup[:, 1])\n",
    "#         print(x_min, x_max, y_min, y_max)\n",
    "    if location == 'goldman':\n",
    "        filter_df = df.filter((((f.col('dropoff_latitude') <= y_max) & (f.col('dropoff_latitude') >= y_min)) &\\\n",
    "                ((f.col('dropoff_longitude') <= x_max) & (f.col('dropoff_longitude') >= x_min)))) \n",
    "                              \n",
    "    else:\n",
    "        filter_df = df.filter((((f.col('dropoff_latitude') <= y1_max) & (f.col('dropoff_latitude') >= y1_min)) &\\\n",
    "                ((f.col('dropoff_longitude') <= x1_max) & (f.col('dropoff_longitude') >= x1_min))) \n",
    "        )\n",
    "        \n",
    "    return filter_df.withColumn('Action', f.lit(location))"
   ]
  },
  {
   "cell_type": "markdown",
   "id": "952899e0",
   "metadata": {},
   "source": [
    "1. Get the streaming data "
   ]
  },
  {
   "cell_type": "code",
   "execution_count": 152,
   "id": "3b9f82b1",
   "metadata": {},
   "outputs": [],
   "source": [
    "import pyspark.sql.functions as f\n",
    "\n",
    "streaming_df = (\n",
    "  spark\n",
    "    .readStream\n",
    "    .schema(schema)          # Set the schema of the csv data\n",
    "#     .option(\"maxFilesPerTrigger\", 1)\n",
    "    .csv(inputPath)\n",
    ")"
   ]
  },
  {
   "cell_type": "markdown",
   "id": "b06a63c0",
   "metadata": {},
   "source": [
    "2. Filter the record to get `longitude` and `latitude`, then filter using `location` (goldman, citigroup)"
   ]
  },
  {
   "cell_type": "code",
   "execution_count": 153,
   "id": "d8df0c74",
   "metadata": {},
   "outputs": [],
   "source": [
    "yellow_records_df = streaming_df.filter(f.col('_c0') == 'yellow')\n",
    "yellow_records_df = yellow_records_df.select(f.col('_c10').alias('dropoff_longitude'), f.col('_c11').alias('dropoff_latitude'), f.col('_c3').alias('Time'))\n",
    "\n",
    "green_records_df = streaming_df.filter(f.col('_c0') == 'green')\n",
    "green_records_df = green_records_df.select(f.col('_c8').alias('dropoff_longitude'), f.col('_c9').alias('dropoff_latitude'), f.col('_c3').alias('Time'))\n",
    "\n",
    "df = yellow_records_df.union(green_records_df)\n",
    "\n",
    "df = filter_location(df, 'goldman').union(filter_location(df, 'citigroup'))"
   ]
  },
  {
   "cell_type": "markdown",
   "id": "0dce9997",
   "metadata": {},
   "source": [
    "3. Create query"
   ]
  },
  {
   "cell_type": "code",
   "execution_count": 154,
   "id": "86132929",
   "metadata": {},
   "outputs": [],
   "source": [
    "streamingCount = (                 \n",
    "    df\n",
    "    .groupBy( \n",
    "      df.Action,\n",
    "      window(df.Time, \"1 hour\"))\n",
    "    .count()\n",
    ")\n",
    "\n",
    "# This query stores the aggregation results in memory then visualize it\n",
    "query = (\n",
    "  streamingCount\n",
    "    .writeStream\n",
    "    .format(\"memory\")         # console or memory(= store in-memory table) \n",
    "    .queryName(\"counts\")      # counts = name of the in-memory table\n",
    "    .outputMode(\"complete\")   \n",
    "    .option(\"truncate\", \"false\")\n",
    "    .start()\n",
    ")\n",
    "query.awaitTermination(60)\n",
    "\n",
    "query.stop()\n",
    "\n",
    "result = spark.sql('select * from counts order by window')\n",
    "\n",
    "# result.show(result.count(), truncate=False)"
   ]
  },
  {
   "cell_type": "code",
   "execution_count": 155,
   "id": "82ed5cc6",
   "metadata": {},
   "outputs": [
    {
     "name": "stdout",
     "output_type": "stream",
     "text": [
      "+-------+------------------------------------------+-----+\n",
      "|Action |window                                    |count|\n",
      "+-------+------------------------------------------+-----+\n",
      "|goldman|{2015-12-01 05:00:00, 2015-12-01 06:00:00}|8    |\n",
      "|goldman|{2015-12-01 06:00:00, 2015-12-01 07:00:00}|28   |\n",
      "|goldman|{2015-12-01 07:00:00, 2015-12-01 08:00:00}|44   |\n",
      "|goldman|{2015-12-01 08:00:00, 2015-12-01 09:00:00}|59   |\n",
      "|goldman|{2015-12-01 09:00:00, 2015-12-01 10:00:00}|72   |\n",
      "|goldman|{2015-12-01 10:00:00, 2015-12-01 11:00:00}|58   |\n",
      "|goldman|{2015-12-01 11:00:00, 2015-12-01 12:00:00}|34   |\n",
      "|goldman|{2015-12-01 12:00:00, 2015-12-01 13:00:00}|26   |\n",
      "|goldman|{2015-12-01 13:00:00, 2015-12-01 14:00:00}|19   |\n",
      "|goldman|{2015-12-01 14:00:00, 2015-12-01 15:00:00}|31   |\n",
      "|goldman|{2015-12-01 15:00:00, 2015-12-01 16:00:00}|22   |\n",
      "|goldman|{2015-12-01 16:00:00, 2015-12-01 17:00:00}|12   |\n",
      "|goldman|{2015-12-01 17:00:00, 2015-12-01 18:00:00}|3    |\n",
      "|goldman|{2015-12-01 18:00:00, 2015-12-01 19:00:00}|5    |\n",
      "|goldman|{2015-12-01 19:00:00, 2015-12-01 20:00:00}|4    |\n",
      "|goldman|{2015-12-01 20:00:00, 2015-12-01 21:00:00}|2    |\n",
      "|goldman|{2015-12-01 21:00:00, 2015-12-01 22:00:00}|1    |\n",
      "|goldman|{2015-12-01 22:00:00, 2015-12-01 23:00:00}|1    |\n",
      "|goldman|{2015-12-01 23:00:00, 2015-12-02 00:00:00}|1    |\n",
      "+-------+------------------------------------------+-----+\n",
      "\n"
     ]
    }
   ],
   "source": [
    "goldman_res = result.filter(f.col('Action') == 'goldman')\n",
    "goldman_res.show(truncate=False)"
   ]
  },
  {
   "cell_type": "code",
   "execution_count": 156,
   "id": "c2e18822",
   "metadata": {},
   "outputs": [
    {
     "name": "stdout",
     "output_type": "stream",
     "text": [
      "+---------+------------------------------------------+-----+\n",
      "|Action   |window                                    |count|\n",
      "+---------+------------------------------------------+-----+\n",
      "|citigroup|{2015-12-01 00:00:00, 2015-12-01 01:00:00}|6    |\n",
      "|citigroup|{2015-12-01 01:00:00, 2015-12-01 02:00:00}|2    |\n",
      "|citigroup|{2015-12-01 02:00:00, 2015-12-01 03:00:00}|2    |\n",
      "|citigroup|{2015-12-01 03:00:00, 2015-12-01 04:00:00}|2    |\n",
      "|citigroup|{2015-12-01 04:00:00, 2015-12-01 05:00:00}|1    |\n",
      "|citigroup|{2015-12-01 05:00:00, 2015-12-01 06:00:00}|11   |\n",
      "|citigroup|{2015-12-01 06:00:00, 2015-12-01 07:00:00}|70   |\n",
      "|citigroup|{2015-12-01 07:00:00, 2015-12-01 08:00:00}|95   |\n",
      "|citigroup|{2015-12-01 08:00:00, 2015-12-01 09:00:00}|76   |\n",
      "|citigroup|{2015-12-01 09:00:00, 2015-12-01 10:00:00}|75   |\n",
      "|citigroup|{2015-12-01 10:00:00, 2015-12-01 11:00:00}|33   |\n",
      "|citigroup|{2015-12-01 11:00:00, 2015-12-01 12:00:00}|27   |\n",
      "|citigroup|{2015-12-01 12:00:00, 2015-12-01 13:00:00}|35   |\n",
      "|citigroup|{2015-12-01 13:00:00, 2015-12-01 14:00:00}|30   |\n",
      "|citigroup|{2015-12-01 14:00:00, 2015-12-01 15:00:00}|42   |\n",
      "|citigroup|{2015-12-01 15:00:00, 2015-12-01 16:00:00}|29   |\n",
      "|citigroup|{2015-12-01 16:00:00, 2015-12-01 17:00:00}|16   |\n",
      "|citigroup|{2015-12-01 17:00:00, 2015-12-01 18:00:00}|19   |\n",
      "|citigroup|{2015-12-01 18:00:00, 2015-12-01 19:00:00}|26   |\n",
      "|citigroup|{2015-12-01 19:00:00, 2015-12-01 20:00:00}|19   |\n",
      "+---------+------------------------------------------+-----+\n",
      "only showing top 20 rows\n",
      "\n"
     ]
    }
   ],
   "source": [
    "citigroup_res = result.filter(f.col('Action') == 'citigroup')\n",
    "citigroup_res.show(truncate=False)"
   ]
  },
  {
   "cell_type": "markdown",
   "id": "f9216d9a",
   "metadata": {},
   "source": [
    "4. Create folders, and a file to write output"
   ]
  },
  {
   "cell_type": "code",
   "execution_count": 162,
   "id": "46c6fdfe",
   "metadata": {},
   "outputs": [],
   "source": [
    "import os\n",
    "\n",
    "count = 360000\n",
    "for row, row1 in zip(goldman_res.collect(), citigroup_res.collect()):\n",
    "#     print(row, row1)\n",
    "\n",
    "    newpath = r'./output-' + str(count) \n",
    "    if not os.path.exists(newpath):\n",
    "        os.makedirs(newpath)\n",
    "    with open(newpath + f\"/output-{count}.txt\", \"w\") as file:\n",
    "        file.write(f\"goldman: {str(row['count'])}\\ncitigroup: {row1['count']}\")\n",
    "    count += 360000"
   ]
  }
 ],
 "metadata": {
  "kernelspec": {
   "display_name": "Python 3 (ipykernel)",
   "language": "python",
   "name": "python3"
  },
  "language_info": {
   "codemirror_mode": {
    "name": "ipython",
    "version": 3
   },
   "file_extension": ".py",
   "mimetype": "text/x-python",
   "name": "python",
   "nbconvert_exporter": "python",
   "pygments_lexer": "ipython3",
   "version": "3.11.7"
  }
 },
 "nbformat": 4,
 "nbformat_minor": 5
}
