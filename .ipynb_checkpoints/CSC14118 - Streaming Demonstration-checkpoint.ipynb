{
 "cells": [
  {
   "cell_type": "markdown",
   "id": "43565064",
   "metadata": {},
   "source": [
    "## Initialize a Spark Session"
   ]
  },
  {
   "cell_type": "code",
   "execution_count": 1,
   "id": "afcca186",
   "metadata": {},
   "outputs": [],
   "source": [
    "import findspark\n",
    "findspark.init()\n",
    "import pyspark\n",
    "# Creating a SparkSession in Python\n",
    "from pyspark.sql import SparkSession\n",
    "spark = SparkSession.builder.master(\"local\")\\\n",
    "          .appName(\"Spark Streaming Demonstration\")\\\n",
    "          .config(\"spark.some.config.option\", \"some-value\")\\\n",
    "          .getOrCreate()\n",
    "# keep the size of shuffles small\n",
    "spark.conf.set(\"spark.sql.shuffle.partitions\", \"2\") "
   ]
  },
  {
   "cell_type": "markdown",
   "id": "5b244d34",
   "metadata": {},
   "source": [
    "## Task 1: Discover a method to simulate a stream by utilizing data sourced from files\n"
   ]
  },
  {
   "cell_type": "markdown",
   "id": "3f23c5ab",
   "metadata": {},
   "source": [
    "1. Define input path"
   ]
  },
  {
   "cell_type": "code",
   "execution_count": 2,
   "id": "352d2fb7",
   "metadata": {},
   "outputs": [],
   "source": [
    "# input path in local filesystem\n",
    "inputPath = \"./\""
   ]
  },
  {
   "cell_type": "markdown",
   "id": "80b37822",
   "metadata": {},
   "source": [
    "2. Get schema from input files"
   ]
  },
  {
   "cell_type": "code",
   "execution_count": 3,
   "id": "5a132b3f",
   "metadata": {},
   "outputs": [],
   "source": [
    "staticInputDF = (\n",
    "  spark\n",
    "    .read\n",
    "    .csv(inputPath)\n",
    ")\n",
    "\n",
    "schema = staticInputDF.schema"
   ]
  },
  {
   "cell_type": "code",
   "execution_count": 4,
   "id": "415ae378",
   "metadata": {},
   "outputs": [
    {
     "data": {
      "text/plain": [
       "StructType([StructField('_c0', StringType(), True), StructField('_c1', StringType(), True), StructField('_c2', StringType(), True), StructField('_c3', StringType(), True), StructField('_c4', StringType(), True), StructField('_c5', StringType(), True), StructField('_c6', StringType(), True), StructField('_c7', StringType(), True), StructField('_c8', StringType(), True), StructField('_c9', StringType(), True), StructField('_c10', StringType(), True), StructField('_c11', StringType(), True), StructField('_c12', StringType(), True), StructField('_c13', StringType(), True), StructField('_c14', StringType(), True), StructField('_c15', StringType(), True), StructField('_c16', StringType(), True), StructField('_c17', StringType(), True), StructField('_c18', StringType(), True), StructField('_c19', StringType(), True)])"
      ]
     },
     "execution_count": 4,
     "metadata": {},
     "output_type": "execute_result"
    }
   ],
   "source": [
    "schema"
   ]
  },
  {
   "cell_type": "markdown",
   "id": "c5441c54",
   "metadata": {},
   "source": [
    "3. Tạo `streaming_df` và lấy ra các cột `Action` và `Time`"
   ]
  },
  {
   "cell_type": "code",
   "execution_count": 5,
   "id": "20089cf6",
   "metadata": {
    "scrolled": true
   },
   "outputs": [],
   "source": [
    "import pyspark.sql.functions as f\n",
    "\n",
    "streaming_df = (\n",
    "  spark\n",
    "    .readStream\n",
    "    .schema(schema)          # Set the schema of the csv data\n",
    "#     .option(\"maxFilesPerTrigger\", 1)\n",
    "    .csv(inputPath)\n",
    ")\n",
    "\n",
    "streaming_df = streaming_df.select(f.col('_c0').alias('Action'), f.col('_c3').alias('Time'))"
   ]
  },
  {
   "cell_type": "markdown",
   "id": "f596a76d",
   "metadata": {},
   "source": [
    "4. Create `streaming_df_count` for counting trips by drop-off datetime "
   ]
  },
  {
   "cell_type": "code",
   "execution_count": 6,
   "id": "030819c4",
   "metadata": {},
   "outputs": [
    {
     "name": "stdout",
     "output_type": "stream",
     "text": [
      "is process Counting streaming? True\n"
     ]
    }
   ],
   "source": [
    "from pyspark.sql.functions import *      # for window() function\n",
    "streaming_df_count = (\n",
    "  streaming_df\n",
    "    .groupBy(window(streaming_df.Time, \"1 hour\"))    \n",
    "    .count()\n",
    ")\n",
    "\n",
    "print('is process Counting streaming?', streaming_df_count.isStreaming)"
   ]
  },
  {
   "cell_type": "markdown",
   "id": "432cdc59",
   "metadata": {},
   "source": [
    " ## Task 2: Create query that aggregates the number of trips by dropoff datetime for each hour."
   ]
  },
  {
   "cell_type": "code",
   "execution_count": 9,
   "id": "80792bb6",
   "metadata": {},
   "outputs": [
    {
     "name": "stdout",
     "output_type": "stream",
     "text": [
      "+------------------------------------------+-----+\n",
      "|window                                    |count|\n",
      "+------------------------------------------+-----+\n",
      "|{2015-12-01 00:00:00, 2015-12-01 01:00:00}|1645 |\n",
      "|{2015-12-01 01:00:00, 2015-12-01 02:00:00}|5780 |\n",
      "|{2015-12-01 02:00:00, 2015-12-01 03:00:00}|3605 |\n",
      "|{2015-12-01 03:00:00, 2015-12-01 04:00:00}|2426 |\n",
      "|{2015-12-01 04:00:00, 2015-12-01 05:00:00}|2505 |\n",
      "|{2015-12-01 05:00:00, 2015-12-01 06:00:00}|3858 |\n",
      "|{2015-12-01 06:00:00, 2015-12-01 07:00:00}|10258|\n",
      "|{2015-12-01 07:00:00, 2015-12-01 08:00:00}|19007|\n",
      "|{2015-12-01 08:00:00, 2015-12-01 09:00:00}|7321 |\n",
      "+------------------------------------------+-----+\n",
      "\n"
     ]
    }
   ],
   "source": [
    "# This query stores the aggregation results in memory then visualize it\n",
    "query = (\n",
    "  streaming_df_count\n",
    "    .writeStream\n",
    "    .format(\"memory\")         # console or memory(= store in-memory table) \n",
    "    .queryName(\"counts\")      # counts = name of the in-memory table\n",
    "    .outputMode(\"complete\")   \n",
    "    .option(\"truncate\", \"false\")\n",
    "    .start()\n",
    ")\n",
    "query.awaitTermination(600)\n",
    "\n",
    "query.stop()\n",
    "\n",
    "result = spark.sql('select * from counts order by window').show(truncate=False)"
   ]
  },
  {
   "cell_type": "markdown",
   "id": "3716f1e1",
   "metadata": {},
   "source": [
    "6. Create folders and files to store each intervals "
   ]
  },
  {
   "cell_type": "code",
   "execution_count": 10,
   "id": "25423493",
   "metadata": {},
   "outputs": [
    {
     "ename": "AttributeError",
     "evalue": "'NoneType' object has no attribute 'collect'",
     "output_type": "error",
     "traceback": [
      "\u001b[1;31m---------------------------------------------------------------------------\u001b[0m",
      "\u001b[1;31mAttributeError\u001b[0m                            Traceback (most recent call last)",
      "Cell \u001b[1;32mIn[10], line 4\u001b[0m\n\u001b[0;32m      1\u001b[0m \u001b[38;5;28;01mimport\u001b[39;00m \u001b[38;5;21;01mos\u001b[39;00m\n\u001b[0;32m      3\u001b[0m count \u001b[38;5;241m=\u001b[39m \u001b[38;5;241m360000\u001b[39m\n\u001b[1;32m----> 4\u001b[0m \u001b[38;5;28;01mfor\u001b[39;00m row \u001b[38;5;129;01min\u001b[39;00m \u001b[43mresult\u001b[49m\u001b[38;5;241;43m.\u001b[39;49m\u001b[43mcollect\u001b[49m():\n\u001b[0;32m      5\u001b[0m \u001b[38;5;66;03m#     print(row)\u001b[39;00m\n\u001b[0;32m      6\u001b[0m     newpath \u001b[38;5;241m=\u001b[39m \u001b[38;5;124mr\u001b[39m\u001b[38;5;124m'\u001b[39m\u001b[38;5;124m./output-\u001b[39m\u001b[38;5;124m'\u001b[39m \u001b[38;5;241m+\u001b[39m \u001b[38;5;28mstr\u001b[39m(count) \n\u001b[0;32m      7\u001b[0m     \u001b[38;5;28;01mif\u001b[39;00m \u001b[38;5;129;01mnot\u001b[39;00m os\u001b[38;5;241m.\u001b[39mpath\u001b[38;5;241m.\u001b[39mexists(newpath):\n",
      "\u001b[1;31mAttributeError\u001b[0m: 'NoneType' object has no attribute 'collect'"
     ]
    }
   ],
   "source": [
    "import os\n",
    "\n",
    "count = 360000\n",
    "for row in result.collect():\n",
    "#     print(row)\n",
    "    newpath = r'./output-' + str(count) \n",
    "    if not os.path.exists(newpath):\n",
    "        os.makedirs(newpath)\n",
    "    with open(newpath + f\"/output-{count}.txt\", \"w\") as file:\n",
    "        file.write(str(row['count']))\n",
    "    count += 360000"
   ]
  }
 ],
 "metadata": {
  "kernelspec": {
   "display_name": "Python 3 (ipykernel)",
   "language": "python",
   "name": "python3"
  },
  "language_info": {
   "codemirror_mode": {
    "name": "ipython",
    "version": 3
   },
   "file_extension": ".py",
   "mimetype": "text/x-python",
   "name": "python",
   "nbconvert_exporter": "python",
   "pygments_lexer": "ipython3",
   "version": "3.11.7"
  }
 },
 "nbformat": 4,
 "nbformat_minor": 5
}
