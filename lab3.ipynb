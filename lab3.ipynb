{
 "cells": [
  {
   "cell_type": "markdown",
   "id": "43565064",
   "metadata": {},
   "source": [
    "## Initialize a Spark Session"
   ]
  },
  {
   "cell_type": "code",
   "execution_count": 1,
   "id": "afcca186",
   "metadata": {},
   "outputs": [],
   "source": [
    "import findspark\n",
    "findspark.init()\n",
    "import pyspark\n",
    "# Creating a SparkSession in Python\n",
    "from pyspark.sql import SparkSession\n",
    "spark = SparkSession.builder.master(\"local\")\\\n",
    "          .appName(\"Spark Streaming Demonstration\")\\\n",
    "          .config(\"spark.some.config.option\", \"some-value\")\\\n",
    "          .getOrCreate()\n",
    "# keep the size of shuffles small\n",
    "spark.conf.set(\"spark.sql.shuffle.partitions\", \"2\") "
   ]
  },
  {
   "cell_type": "markdown",
   "id": "5b244d34",
   "metadata": {},
   "source": [
    "## Task 1: Discover a method to simulate a stream by utilizing data sourced from files\n"
   ]
  },
  {
   "cell_type": "markdown",
   "id": "3f23c5ab",
   "metadata": {},
   "source": [
    "1. Define input path"
   ]
  },
  {
   "cell_type": "code",
   "execution_count": 2,
   "id": "352d2fb7",
   "metadata": {},
   "outputs": [],
   "source": [
    "# input path in local filesystem\n",
    "inputPath = \"./\""
   ]
  },
  {
   "cell_type": "markdown",
   "id": "80b37822",
   "metadata": {},
   "source": [
    "2. Get schema from input files"
   ]
  },
  {
   "cell_type": "code",
   "execution_count": 3,
   "id": "5a132b3f",
   "metadata": {},
   "outputs": [],
   "source": [
    "staticInputDF = (\n",
    "  spark\n",
    "    .read\n",
    "    .csv(inputPath)\n",
    ")\n",
    "\n",
    "schema = staticInputDF.schema"
   ]
  },
  {
   "cell_type": "code",
   "execution_count": 4,
   "id": "415ae378",
   "metadata": {},
   "outputs": [
    {
     "data": {
      "text/plain": [
       "StructType([StructField('_c0', StringType(), True), StructField('_c1', StringType(), True), StructField('_c2', StringType(), True), StructField('_c3', StringType(), True), StructField('_c4', StringType(), True), StructField('_c5', StringType(), True), StructField('_c6', StringType(), True), StructField('_c7', StringType(), True), StructField('_c8', StringType(), True), StructField('_c9', StringType(), True), StructField('_c10', StringType(), True), StructField('_c11', StringType(), True), StructField('_c12', StringType(), True), StructField('_c13', StringType(), True), StructField('_c14', StringType(), True), StructField('_c15', StringType(), True), StructField('_c16', StringType(), True), StructField('_c17', StringType(), True), StructField('_c18', StringType(), True), StructField('_c19', StringType(), True)])"
      ]
     },
     "execution_count": 4,
     "metadata": {},
     "output_type": "execute_result"
    }
   ],
   "source": [
    "schema"
   ]
  },
  {
   "cell_type": "markdown",
   "id": "c5441c54",
   "metadata": {},
   "source": [
    "3. Tạo `streaming_df` và lấy ra các cột `Action` và `Time`"
   ]
  },
  {
   "cell_type": "code",
   "execution_count": 5,
   "id": "20089cf6",
   "metadata": {
    "scrolled": true
   },
   "outputs": [],
   "source": [
    "import pyspark.sql.functions as f\n",
    "\n",
    "streaming_df = (\n",
    "  spark\n",
    "    .readStream\n",
    "    .schema(schema)          # Set the schema of the csv data\n",
    "#     .option(\"maxFilesPerTrigger\", 1)\n",
    "    .csv(inputPath)\n",
    ")\n",
    "\n",
    "streaming_df = streaming_df.select(f.col('_c0').alias('Action'), f.col('_c3').alias('Time'))"
   ]
  },
  {
   "cell_type": "markdown",
   "id": "f596a76d",
   "metadata": {},
   "source": [
    "4. Create `streaming_df_count` for counting trips by drop-off datetime "
   ]
  },
  {
   "cell_type": "code",
   "execution_count": 6,
   "id": "030819c4",
   "metadata": {},
   "outputs": [
    {
     "name": "stdout",
     "output_type": "stream",
     "text": [
      "is process Counting streaming? True\n"
     ]
    }
   ],
   "source": [
    "from pyspark.sql.functions import *      # for window() function\n",
    "streaming_df_count = (\n",
    "  streaming_df\n",
    "    .groupBy(window(streaming_df.Time, \"1 hour\"))    \n",
    "    .count()\n",
    ")\n",
    "\n",
    "print('is process Counting streaming?', streaming_df_count.isStreaming)"
   ]
  },
  {
   "cell_type": "markdown",
   "id": "432cdc59",
   "metadata": {},
   "source": [
    " ## Task 2: Create query that aggregates the number of trips by dropoff datetime for each hour."
   ]
  },
  {
   "cell_type": "code",
   "execution_count": 10,
   "id": "80792bb6",
   "metadata": {},
   "outputs": [
    {
     "name": "stdout",
     "output_type": "stream",
     "text": [
      "+------------------------------------------+-----+\n",
      "|window                                    |count|\n",
      "+------------------------------------------+-----+\n",
      "|{2015-12-01 00:00:00, 2015-12-01 01:00:00}|7396 |\n",
      "|{2015-12-01 01:00:00, 2015-12-01 02:00:00}|5780 |\n",
      "|{2015-12-01 02:00:00, 2015-12-01 03:00:00}|3605 |\n",
      "|{2015-12-01 03:00:00, 2015-12-01 04:00:00}|2426 |\n",
      "|{2015-12-01 04:00:00, 2015-12-01 05:00:00}|2505 |\n",
      "|{2015-12-01 05:00:00, 2015-12-01 06:00:00}|3858 |\n",
      "|{2015-12-01 06:00:00, 2015-12-01 07:00:00}|10258|\n",
      "|{2015-12-01 07:00:00, 2015-12-01 08:00:00}|19007|\n",
      "|{2015-12-01 08:00:00, 2015-12-01 09:00:00}|23799|\n",
      "|{2015-12-01 09:00:00, 2015-12-01 10:00:00}|24003|\n",
      "|{2015-12-01 10:00:00, 2015-12-01 11:00:00}|21179|\n",
      "|{2015-12-01 11:00:00, 2015-12-01 12:00:00}|20219|\n",
      "|{2015-12-01 12:00:00, 2015-12-01 13:00:00}|20522|\n",
      "|{2015-12-01 13:00:00, 2015-12-01 14:00:00}|20556|\n",
      "|{2015-12-01 14:00:00, 2015-12-01 15:00:00}|21712|\n",
      "|{2015-12-01 15:00:00, 2015-12-01 16:00:00}|22016|\n",
      "|{2015-12-01 16:00:00, 2015-12-01 17:00:00}|18034|\n",
      "|{2015-12-01 17:00:00, 2015-12-01 18:00:00}|19719|\n",
      "|{2015-12-01 18:00:00, 2015-12-01 19:00:00}|25563|\n",
      "|{2015-12-01 19:00:00, 2015-12-01 20:00:00}|28178|\n",
      "|{2015-12-01 20:00:00, 2015-12-01 21:00:00}|27449|\n",
      "|{2015-12-01 21:00:00, 2015-12-01 22:00:00}|27072|\n",
      "|{2015-12-01 22:00:00, 2015-12-01 23:00:00}|24078|\n",
      "|{2015-12-01 23:00:00, 2015-12-02 00:00:00}|18806|\n",
      "+------------------------------------------+-----+\n",
      "\n"
     ]
    }
   ],
   "source": [
    "# This query stores the aggregation results in memory then visualize it\n",
    "query = (\n",
    "  streaming_df_count\n",
    "    .writeStream\n",
    "    .format(\"memory\")         # console or memory(= store in-memory table) \n",
    "    .queryName(\"counts\")      # counts = name of the in-memory table\n",
    "    .outputMode(\"complete\")   \n",
    "    .option(\"truncate\", \"false\")\n",
    "    .start()\n",
    ")\n",
    "query.awaitTermination(60)\n",
    "\n",
    "query.stop()\n",
    "\n",
    "result = spark.sql('select * from counts order by window')\n",
    "\n",
    "result.show(result.count(), truncate=False)"
   ]
  },
  {
   "cell_type": "markdown",
   "id": "3716f1e1",
   "metadata": {},
   "source": [
    "6. Create folders and files to store each intervals "
   ]
  },
  {
   "cell_type": "code",
   "execution_count": 11,
   "id": "25423493",
   "metadata": {},
   "outputs": [],
   "source": [
    "import os\n",
    "\n",
    "count = 360000\n",
    "for row in result.collect():\n",
    "#     print(row)\n",
    "    newpath = r'./output-' + str(count) \n",
    "    if not os.path.exists(newpath):\n",
    "        os.makedirs(newpath)\n",
    "    with open(newpath + f\"/output-{count}.txt\", \"w\") as file:\n",
    "        file.write(str(row['count']))\n",
    "    count += 360000"
   ]
  }
 ],
 "metadata": {
  "kernelspec": {
   "display_name": "Python 3 (ipykernel)",
   "language": "python",
   "name": "python3"
  },
  "language_info": {
   "codemirror_mode": {
    "name": "ipython",
    "version": 3
   },
   "file_extension": ".py",
   "mimetype": "text/x-python",
   "name": "python",
   "nbconvert_exporter": "python",
   "pygments_lexer": "ipython3",
   "version": "3.11.7"
  }
 },
 "nbformat": 4,
 "nbformat_minor": 5
}
